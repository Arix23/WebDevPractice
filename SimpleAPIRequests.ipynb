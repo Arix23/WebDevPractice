{
 "metadata": {
  "language_info": {
   "codemirror_mode": {
    "name": "ipython",
    "version": 3
   },
   "file_extension": ".py",
   "mimetype": "text/x-python",
   "name": "python",
   "nbconvert_exporter": "python",
   "pygments_lexer": "ipython3",
   "version": "3.8.3-final"
  },
  "orig_nbformat": 2,
  "kernelspec": {
   "name": "Python 3.8.3 64-bit ('ProgramData': virtualenv)",
   "display_name": "Python 3.8.3 64-bit ('ProgramData': virtualenv)",
   "metadata": {
    "interpreter": {
     "hash": "19d5effd8ee1311358e509780eb3ba0aa603f088884d2fee5afc3922f78377a9"
    }
   }
  }
 },
 "nbformat": 4,
 "nbformat_minor": 2,
 "cells": [
  {
   "cell_type": "code",
   "execution_count": 14,
   "metadata": {},
   "outputs": [],
   "source": [
    "import requests, json\n",
    "APIKey = \"RGAPI-XXX\""
   ]
  },
  {
   "cell_type": "code",
   "execution_count": null,
   "metadata": {},
   "outputs": [],
   "source": [
    "response = requests.get(\"https://na1.api.riotgames.com/lol/platform/v3/champion-rotations?api_key=\" + APIKey)\n",
    "response.json()"
   ]
  },
  {
   "cell_type": "code",
   "execution_count": null,
   "metadata": {},
   "outputs": [],
   "source": [
    "responseSN = requests.get(\"https://la1.api.riotgames.com/lol/summoner/v4/summoners/by-name/Arix?api_key=\" + APIKey)\n",
    "responseSN.json()"
   ]
  },
  {
   "cell_type": "code",
   "execution_count": null,
   "metadata": {},
   "outputs": [],
   "source": [
    "AccID = responseSN.json()['accountId']\n",
    "responseMatches = requests.get(\"https://la1.api.riotgames.com/lol/match/v4/matchlists/by-account/\" + AccID + \"?api_key=\" + APIKey)\n",
    "responseMatches.json()\n"
   ]
  },
  {
   "cell_type": "code",
   "execution_count": 48,
   "metadata": {},
   "outputs": [],
   "source": [
    "championInfo = requests.get(\"http://ddragon.leagueoflegends.com/cdn/10.20.1/data/en_US/champion.json\")\n",
    "championRawData = json.loads(championInfo.text)\n",
    "championSpecific = championRawData['data']\n",
    "for i in championSpecific:\n",
    "    name = championSpecific[i]['name']\n",
    "    key = championSpecific[i]['key']\n",
    "    title = championSpecific[i]['title']\n",
    "    row = [name,key,title]\n",
    "    DF.append(row)"
   ]
  },
  {
   "cell_type": "code",
   "execution_count": 47,
   "metadata": {},
   "outputs": [],
   "source": [
    "DF = []\n",
    "DF = [[\"name\",\"key\",\"title\"]]"
   ]
  },
  {
   "cell_type": "code",
   "execution_count": 49,
   "metadata": {},
   "outputs": [
    {
     "output_type": "execute_result",
     "data": {
      "text/plain": "[[&#39;name&#39;, &#39;key&#39;, &#39;title&#39;],\n [&#39;Aatrox&#39;, &#39;266&#39;, &#39;the Darkin Blade&#39;],\n [&#39;Ahri&#39;, &#39;103&#39;, &#39;the Nine-Tailed Fox&#39;],\n [&#39;Akali&#39;, &#39;84&#39;, &#39;the Rogue Assassin&#39;],\n [&#39;Alistar&#39;, &#39;12&#39;, &#39;the Minotaur&#39;],\n [&#39;Amumu&#39;, &#39;32&#39;, &#39;the Sad Mummy&#39;],\n [&#39;Anivia&#39;, &#39;34&#39;, &#39;the Cryophoenix&#39;],\n [&#39;Annie&#39;, &#39;1&#39;, &#39;the Dark Child&#39;],\n [&#39;Aphelios&#39;, &#39;523&#39;, &#39;the Weapon of the Faithful&#39;],\n [&#39;Ashe&#39;, &#39;22&#39;, &#39;the Frost Archer&#39;],\n [&#39;Aurelion Sol&#39;, &#39;136&#39;, &#39;The Star Forger&#39;],\n [&#39;Azir&#39;, &#39;268&#39;, &#39;the Emperor of the Sands&#39;],\n [&#39;Bard&#39;, &#39;432&#39;, &#39;the Wandering Caretaker&#39;],\n [&#39;Blitzcrank&#39;, &#39;53&#39;, &#39;the Great Steam Golem&#39;],\n [&#39;Brand&#39;, &#39;63&#39;, &#39;the Burning Vengeance&#39;],\n [&#39;Braum&#39;, &#39;201&#39;, &#39;the Heart of the Freljord&#39;],\n [&#39;Caitlyn&#39;, &#39;51&#39;, &#39;the Sheriff of Piltover&#39;],\n [&#39;Camille&#39;, &#39;164&#39;, &#39;the Steel Shadow&#39;],\n [&#39;Cassiopeia&#39;, &#39;69&#39;, &quot;the Serpent&#39;s Embrace&quot;],\n [&quot;Cho&#39;Gath&quot;, &#39;31&#39;, &#39;the Terror of the Void&#39;],\n [&#39;Corki&#39;, &#39;42&#39;, &#39;the Daring Bombardier&#39;],\n [&#39;Darius&#39;, &#39;122&#39;, &#39;the Hand of Noxus&#39;],\n [&#39;Diana&#39;, &#39;131&#39;, &#39;Scorn of the Moon&#39;],\n [&#39;Draven&#39;, &#39;119&#39;, &#39;the Glorious Executioner&#39;],\n [&#39;Dr. Mundo&#39;, &#39;36&#39;, &#39;the Madman of Zaun&#39;],\n [&#39;Ekko&#39;, &#39;245&#39;, &#39;the Boy Who Shattered Time&#39;],\n [&#39;Elise&#39;, &#39;60&#39;, &#39;the Spider Queen&#39;],\n [&#39;Evelynn&#39;, &#39;28&#39;, &quot;Agony&#39;s Embrace&quot;],\n [&#39;Ezreal&#39;, &#39;81&#39;, &#39;the Prodigal Explorer&#39;],\n [&#39;Fiddlesticks&#39;, &#39;9&#39;, &#39;the Ancient Fear&#39;],\n [&#39;Fiora&#39;, &#39;114&#39;, &#39;the Grand Duelist&#39;],\n [&#39;Fizz&#39;, &#39;105&#39;, &#39;the Tidal Trickster&#39;],\n [&#39;Galio&#39;, &#39;3&#39;, &#39;the Colossus&#39;],\n [&#39;Gangplank&#39;, &#39;41&#39;, &#39;the Saltwater Scourge&#39;],\n [&#39;Garen&#39;, &#39;86&#39;, &#39;The Might of Demacia&#39;],\n [&#39;Gnar&#39;, &#39;150&#39;, &#39;the Missing Link&#39;],\n [&#39;Gragas&#39;, &#39;79&#39;, &#39;the Rabble Rouser&#39;],\n [&#39;Graves&#39;, &#39;104&#39;, &#39;the Outlaw&#39;],\n [&#39;Hecarim&#39;, &#39;120&#39;, &#39;the Shadow of War&#39;],\n [&#39;Heimerdinger&#39;, &#39;74&#39;, &#39;the Revered Inventor&#39;],\n [&#39;Illaoi&#39;, &#39;420&#39;, &#39;the Kraken Priestess&#39;],\n [&#39;Irelia&#39;, &#39;39&#39;, &#39;the Blade Dancer&#39;],\n [&#39;Ivern&#39;, &#39;427&#39;, &#39;the Green Father&#39;],\n [&#39;Janna&#39;, &#39;40&#39;, &quot;the Storm&#39;s Fury&quot;],\n [&#39;Jarvan IV&#39;, &#39;59&#39;, &#39;the Exemplar of Demacia&#39;],\n [&#39;Jax&#39;, &#39;24&#39;, &#39;Grandmaster at Arms&#39;],\n [&#39;Jayce&#39;, &#39;126&#39;, &#39;the Defender of Tomorrow&#39;],\n [&#39;Jhin&#39;, &#39;202&#39;, &#39;the Virtuoso&#39;],\n [&#39;Jinx&#39;, &#39;222&#39;, &#39;the Loose Cannon&#39;],\n [&quot;Kai&#39;Sa&quot;, &#39;145&#39;, &#39;Daughter of the Void&#39;],\n [&#39;Kalista&#39;, &#39;429&#39;, &#39;the Spear of Vengeance&#39;],\n [&#39;Karma&#39;, &#39;43&#39;, &#39;the Enlightened One&#39;],\n [&#39;Karthus&#39;, &#39;30&#39;, &#39;the Deathsinger&#39;],\n [&#39;Kassadin&#39;, &#39;38&#39;, &#39;the Void Walker&#39;],\n [&#39;Katarina&#39;, &#39;55&#39;, &#39;the Sinister Blade&#39;],\n [&#39;Kayle&#39;, &#39;10&#39;, &#39;the Righteous&#39;],\n [&#39;Kayn&#39;, &#39;141&#39;, &#39;the Shadow Reaper&#39;],\n [&#39;Kennen&#39;, &#39;85&#39;, &#39;the Heart of the Tempest&#39;],\n [&quot;Kha&#39;Zix&quot;, &#39;121&#39;, &#39;the Voidreaver&#39;],\n [&#39;Kindred&#39;, &#39;203&#39;, &#39;The Eternal Hunters&#39;],\n [&#39;Kled&#39;, &#39;240&#39;, &#39;the Cantankerous Cavalier&#39;],\n [&quot;Kog&#39;Maw&quot;, &#39;96&#39;, &#39;the Mouth of the Abyss&#39;],\n [&#39;LeBlanc&#39;, &#39;7&#39;, &#39;the Deceiver&#39;],\n [&#39;Lee Sin&#39;, &#39;64&#39;, &#39;the Blind Monk&#39;],\n [&#39;Leona&#39;, &#39;89&#39;, &#39;the Radiant Dawn&#39;],\n [&#39;Lillia&#39;, &#39;876&#39;, &#39;the Bashful Bloom&#39;],\n [&#39;Lissandra&#39;, &#39;127&#39;, &#39;the Ice Witch&#39;],\n [&#39;Lucian&#39;, &#39;236&#39;, &#39;the Purifier&#39;],\n [&#39;Lulu&#39;, &#39;117&#39;, &#39;the Fae Sorceress&#39;],\n [&#39;Lux&#39;, &#39;99&#39;, &#39;the Lady of Luminosity&#39;],\n [&#39;Malphite&#39;, &#39;54&#39;, &#39;Shard of the Monolith&#39;],\n [&#39;Malzahar&#39;, &#39;90&#39;, &#39;the Prophet of the Void&#39;],\n [&#39;Maokai&#39;, &#39;57&#39;, &#39;the Twisted Treant&#39;],\n [&#39;Master Yi&#39;, &#39;11&#39;, &#39;the Wuju Bladesman&#39;],\n [&#39;Miss Fortune&#39;, &#39;21&#39;, &#39;the Bounty Hunter&#39;],\n [&#39;Wukong&#39;, &#39;62&#39;, &#39;the Monkey King&#39;],\n [&#39;Mordekaiser&#39;, &#39;82&#39;, &#39;the Iron Revenant&#39;],\n [&#39;Morgana&#39;, &#39;25&#39;, &#39;the Fallen&#39;],\n [&#39;Nami&#39;, &#39;267&#39;, &#39;the Tidecaller&#39;],\n [&#39;Nasus&#39;, &#39;75&#39;, &#39;the Curator of the Sands&#39;],\n [&#39;Nautilus&#39;, &#39;111&#39;, &#39;the Titan of the Depths&#39;],\n [&#39;Neeko&#39;, &#39;518&#39;, &#39;the Curious Chameleon&#39;],\n [&#39;Nidalee&#39;, &#39;76&#39;, &#39;the Bestial Huntress&#39;],\n [&#39;Nocturne&#39;, &#39;56&#39;, &#39;the Eternal Nightmare&#39;],\n [&#39;Nunu &amp; Willump&#39;, &#39;20&#39;, &#39;the Boy and His Yeti&#39;],\n [&#39;Olaf&#39;, &#39;2&#39;, &#39;the Berserker&#39;],\n [&#39;Orianna&#39;, &#39;61&#39;, &#39;the Lady of Clockwork&#39;],\n [&#39;Ornn&#39;, &#39;516&#39;, &#39;The Fire below the Mountain&#39;],\n [&#39;Pantheon&#39;, &#39;80&#39;, &#39;the Unbreakable Spear&#39;],\n [&#39;Poppy&#39;, &#39;78&#39;, &#39;Keeper of the Hammer&#39;],\n [&#39;Pyke&#39;, &#39;555&#39;, &#39;the Bloodharbor Ripper&#39;],\n [&#39;Qiyana&#39;, &#39;246&#39;, &#39;Empress of the Elements&#39;],\n [&#39;Quinn&#39;, &#39;133&#39;, &quot;Demacia&#39;s Wings&quot;],\n [&#39;Rakan&#39;, &#39;497&#39;, &#39;The Charmer&#39;],\n [&#39;Rammus&#39;, &#39;33&#39;, &#39;the Armordillo&#39;],\n [&quot;Rek&#39;Sai&quot;, &#39;421&#39;, &#39;the Void Burrower&#39;],\n [&#39;Renekton&#39;, &#39;58&#39;, &#39;the Butcher of the Sands&#39;],\n [&#39;Rengar&#39;, &#39;107&#39;, &#39;the Pridestalker&#39;],\n [&#39;Riven&#39;, &#39;92&#39;, &#39;the Exile&#39;],\n [&#39;Rumble&#39;, &#39;68&#39;, &#39;the Mechanized Menace&#39;],\n [&#39;Ryze&#39;, &#39;13&#39;, &#39;the Rune Mage&#39;],\n [&#39;Samira&#39;, &#39;360&#39;, &#39;the Desert Rose&#39;],\n [&#39;Sejuani&#39;, &#39;113&#39;, &#39;Fury of the North&#39;],\n [&#39;Senna&#39;, &#39;235&#39;, &#39;the Redeemer&#39;],\n [&#39;Sett&#39;, &#39;875&#39;, &#39;the Boss&#39;],\n [&#39;Shaco&#39;, &#39;35&#39;, &#39;the Demon Jester&#39;],\n [&#39;Shen&#39;, &#39;98&#39;, &#39;the Eye of Twilight&#39;],\n [&#39;Shyvana&#39;, &#39;102&#39;, &#39;the Half-Dragon&#39;],\n [&#39;Singed&#39;, &#39;27&#39;, &#39;the Mad Chemist&#39;],\n [&#39;Sion&#39;, &#39;14&#39;, &#39;The Undead Juggernaut&#39;],\n [&#39;Sivir&#39;, &#39;15&#39;, &#39;the Battle Mistress&#39;],\n [&#39;Skarner&#39;, &#39;72&#39;, &#39;the Crystal Vanguard&#39;],\n [&#39;Sona&#39;, &#39;37&#39;, &#39;Maven of the Strings&#39;],\n [&#39;Soraka&#39;, &#39;16&#39;, &#39;the Starchild&#39;],\n [&#39;Swain&#39;, &#39;50&#39;, &#39;the Noxian Grand General&#39;],\n [&#39;Sylas&#39;, &#39;517&#39;, &#39;the Unshackled&#39;],\n [&#39;Syndra&#39;, &#39;134&#39;, &#39;the Dark Sovereign&#39;],\n [&#39;Tahm Kench&#39;, &#39;223&#39;, &#39;the River King&#39;],\n [&#39;Taliyah&#39;, &#39;163&#39;, &#39;the Stoneweaver&#39;],\n [&#39;Talon&#39;, &#39;91&#39;, &quot;the Blade&#39;s Shadow&quot;],\n [&#39;Taric&#39;, &#39;44&#39;, &#39;the Shield of Valoran&#39;],\n [&#39;Teemo&#39;, &#39;17&#39;, &#39;the Swift Scout&#39;],\n [&#39;Thresh&#39;, &#39;412&#39;, &#39;the Chain Warden&#39;],\n [&#39;Tristana&#39;, &#39;18&#39;, &#39;the Yordle Gunner&#39;],\n [&#39;Trundle&#39;, &#39;48&#39;, &#39;the Troll King&#39;],\n [&#39;Tryndamere&#39;, &#39;23&#39;, &#39;the Barbarian King&#39;],\n [&#39;Twisted Fate&#39;, &#39;4&#39;, &#39;the Card Master&#39;],\n [&#39;Twitch&#39;, &#39;29&#39;, &#39;the Plague Rat&#39;],\n [&#39;Udyr&#39;, &#39;77&#39;, &#39;the Spirit Walker&#39;],\n [&#39;Urgot&#39;, &#39;6&#39;, &#39;the Dreadnought&#39;],\n [&#39;Varus&#39;, &#39;110&#39;, &#39;the Arrow of Retribution&#39;],\n [&#39;Vayne&#39;, &#39;67&#39;, &#39;the Night Hunter&#39;],\n [&#39;Veigar&#39;, &#39;45&#39;, &#39;the Tiny Master of Evil&#39;],\n [&quot;Vel&#39;Koz&quot;, &#39;161&#39;, &#39;the Eye of the Void&#39;],\n [&#39;Vi&#39;, &#39;254&#39;, &#39;the Piltover Enforcer&#39;],\n [&#39;Viktor&#39;, &#39;112&#39;, &#39;the Machine Herald&#39;],\n [&#39;Vladimir&#39;, &#39;8&#39;, &#39;the Crimson Reaper&#39;],\n [&#39;Volibear&#39;, &#39;106&#39;, &#39;the Relentless Storm&#39;],\n [&#39;Warwick&#39;, &#39;19&#39;, &#39;the Uncaged Wrath of Zaun&#39;],\n [&#39;Xayah&#39;, &#39;498&#39;, &#39;the Rebel&#39;],\n [&#39;Xerath&#39;, &#39;101&#39;, &#39;the Magus Ascendant&#39;],\n [&#39;Xin Zhao&#39;, &#39;5&#39;, &#39;the Seneschal of Demacia&#39;],\n [&#39;Yasuo&#39;, &#39;157&#39;, &#39;the Unforgiven&#39;],\n [&#39;Yone&#39;, &#39;777&#39;, &#39;the Unforgotten&#39;],\n [&#39;Yorick&#39;, &#39;83&#39;, &#39;Shepherd of Souls&#39;],\n [&#39;Yuumi&#39;, &#39;350&#39;, &#39;the Magical Cat&#39;],\n [&#39;Zac&#39;, &#39;154&#39;, &#39;the Secret Weapon&#39;],\n [&#39;Zed&#39;, &#39;238&#39;, &#39;the Master of Shadows&#39;],\n [&#39;Ziggs&#39;, &#39;115&#39;, &#39;the Hexplosives Expert&#39;],\n [&#39;Zilean&#39;, &#39;26&#39;, &#39;the Chronokeeper&#39;],\n [&#39;Zoe&#39;, &#39;142&#39;, &#39;the Aspect of Twilight&#39;],\n [&#39;Zyra&#39;, &#39;143&#39;, &#39;Rise of the Thorns&#39;]]"
     },
     "metadata": {},
     "execution_count": 49
    }
   ],
   "source": [
    "DF"
   ]
  },
  {
   "cell_type": "code",
   "execution_count": 53,
   "metadata": {},
   "outputs": [],
   "source": [
    "import csv\n",
    "with open(\"AllChamps.csv\",\"w\") as f:\n",
    "    writer=csv.writer(f)\n",
    "    writer.writerows(DF)"
   ]
  }
 ]
}
